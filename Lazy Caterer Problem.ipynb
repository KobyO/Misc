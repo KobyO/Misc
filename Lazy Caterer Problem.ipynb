{
 "cells": [
  {
   "cell_type": "markdown",
   "metadata": {
    "deletable": true,
    "editable": true
   },
   "source": [
    "### The Lazy Caterer Series\n",
    "(Source: https://medium.com/mathematica-stories/why-is-2017-an-interesting-number-dc3cfc135853)\n",
    "\n",
    "The picture below shows a pancake that has been divided into 7 pieces by 3 straight cuts. How many pieces can be made using N straight cuts?\n",
    "<img src='https://upload.wikimedia.org/wikipedia/commons/thumb/4/45/PancakeCutThrice.agr.jpg/478px-PancakeCutThrice.agr.jpg' />\n",
    "\n",
    "This question can be answered by counting the number of additional pieces created by each cut. In the beginning, there is only 1 piece. The first cut adds 1 piece, the second cut adds 2 pieces, the third cut adds 3 pieces, and so on. So after 3 cuts, there are 1 + 1 + 2 + 3 = 7 pieces.\n",
    "\n",
    "The general pattern here is 1 + 1 + 2 + 3 + 4 + 5 + 6 + ..."
   ]
  },
  {
   "cell_type": "code",
   "execution_count": 1,
   "metadata": {
    "collapsed": true,
    "deletable": true,
    "editable": true
   },
   "outputs": [],
   "source": [
    "import sys"
   ]
  },
  {
   "cell_type": "code",
   "execution_count": 2,
   "metadata": {
    "collapsed": true,
    "deletable": true,
    "editable": true
   },
   "outputs": [],
   "source": [
    "sys.setrecursionlimit(2000)"
   ]
  },
  {
   "cell_type": "code",
   "execution_count": 3,
   "metadata": {
    "collapsed": true,
    "deletable": true,
    "editable": true
   },
   "outputs": [],
   "source": [
    "def lazy_caterer(num_cuts):\n",
    "    \n",
    "    '''\n",
    "    Function to return the number of pieces produced by a given number of straight cuts\n",
    "    \n",
    "    Input: num_cuts\n",
    "    Output: num_pieces    \n",
    "    '''\n",
    "    \n",
    "    if num_cuts < 0: # cannot have a negtive number of cuts\n",
    "        num_cuts = 0\n",
    "    num_pieces = 1 if num_cuts == 0 else num_cuts + lazy_caterer(num_cuts - 1)\n",
    "    \n",
    "    return num_pieces"
   ]
  },
  {
   "cell_type": "code",
   "execution_count": 4,
   "metadata": {
    "collapsed": false,
    "deletable": true,
    "editable": true
   },
   "outputs": [
    {
     "data": {
      "text/plain": [
       "1125751"
      ]
     },
     "execution_count": 4,
     "metadata": {},
     "output_type": "execute_result"
    }
   ],
   "source": [
    "lazy_caterer(1500)"
   ]
  },
  {
   "cell_type": "code",
   "execution_count": 5,
   "metadata": {
    "collapsed": true,
    "deletable": true,
    "editable": true
   },
   "outputs": [],
   "source": [
    "def inverse_lazy_caterer(num_pieces, num_cuts = 1):\n",
    "    \n",
    "    '''\n",
    "    Function to return the number of straight cuts required to prduce a given number of pieces\n",
    "    \n",
    "    Input: num_pieces, num_cuts initialized to 1\n",
    "    Output: num_cuts    \n",
    "    '''\n",
    "        \n",
    "    if num_pieces - 1 == num_cuts:\n",
    "        return num_cuts\n",
    "    elif num_pieces - 1 < num_cuts:\n",
    "        print('No integer number of cuts can produce the desired number of pieces')\n",
    "        return\n",
    "    \n",
    "    return inverse_lazy_caterer(num_pieces - num_cuts, num_cuts + 1)"
   ]
  },
  {
   "cell_type": "code",
   "execution_count": 6,
   "metadata": {
    "collapsed": false,
    "deletable": true,
    "editable": true
   },
   "outputs": [
    {
     "data": {
      "text/plain": [
       "1500"
      ]
     },
     "execution_count": 6,
     "metadata": {},
     "output_type": "execute_result"
    }
   ],
   "source": [
    "inverse_lazy_caterer(1125751)"
   ]
  },
  {
   "cell_type": "code",
   "execution_count": null,
   "metadata": {
    "collapsed": true,
    "deletable": true,
    "editable": true
   },
   "outputs": [],
   "source": []
  }
 ],
 "metadata": {
  "kernelspec": {
   "display_name": "Python 3",
   "language": "python",
   "name": "python3"
  },
  "language_info": {
   "codemirror_mode": {
    "name": "ipython",
    "version": 3
   },
   "file_extension": ".py",
   "mimetype": "text/x-python",
   "name": "python",
   "nbconvert_exporter": "python",
   "pygments_lexer": "ipython3",
   "version": "3.5.2"
  }
 },
 "nbformat": 4,
 "nbformat_minor": 2
}
