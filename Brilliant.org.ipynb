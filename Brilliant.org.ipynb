{
 "cells": [
  {
   "cell_type": "markdown",
   "metadata": {
    "deletable": true,
    "editable": true
   },
   "source": [
    "### Brilliant.org June 26 2017 Problems of the week\n",
    "\n",
    "### Q1\n",
    "(Source: https://brilliant.org/weekly-problems/2017-06-26/advanced/)\n",
    "\n",
    "True or False?\n",
    "\n",
    "The infinite sequence $\\big\\lfloor 1\\times \\sqrt{ 2017 } \\big\\rfloor,\\ \\big\\lfloor 2 \\times  \\sqrt{ 2017 } \\big\\rfloor,\\ \\big\\lfloor 3 \\times \\sqrt{ 2017 } \\big\\rfloor,\\ \\big\\lfloor 4 \\times \\sqrt{ 2017 } \\big\\rfloor,\\ \\ldots$ contains infinitely many perfect squares.\n",
    "\n",
    "Notation: $\\big\\lfloor.\\big\\rfloor$ denotes the floor function."
   ]
  },
  {
   "cell_type": "markdown",
   "metadata": {
    "deletable": true,
    "editable": true
   },
   "source": [
    "The code below does not provide an answer to the question, but simply provides a function (*scan_terms(num_of_terms)*) to help us investigate if we can keep finding perfect squares up to *num_of_terms* terms in the infinite sequence."
   ]
  },
  {
   "cell_type": "code",
   "execution_count": 1,
   "metadata": {
    "collapsed": true,
    "deletable": true,
    "editable": true
   },
   "outputs": [],
   "source": [
    "import math"
   ]
  },
  {
   "cell_type": "code",
   "execution_count": 2,
   "metadata": {
    "collapsed": true,
    "deletable": true,
    "editable": true
   },
   "outputs": [],
   "source": [
    "# def is_perfect_square(num):\n",
    "    \n",
    "#     x = num // 2\n",
    "#     seen = set([x])\n",
    "    \n",
    "#     while x * x != num:\n",
    "#         x = (x + (num // x)) // 2\n",
    "#         if x in seen:\n",
    "#             return False\n",
    "#         seen.add(x)\n",
    "        \n",
    "#     return True\n",
    "\n",
    "# Elegant variation\n",
    "def is_perfect_square(num):\n",
    "    \n",
    "    return math.sqrt(num) % 1 == 0"
   ]
  },
  {
   "cell_type": "code",
   "execution_count": 3,
   "metadata": {
    "collapsed": true,
    "deletable": true,
    "editable": true
   },
   "outputs": [],
   "source": [
    "def scan_terms(num_of_terms):\n",
    "    \n",
    "    '''\n",
    "    Function to scan up to 'num_of_terms' terms to investigate if we will still keep finding perfect squares as 'num_of_terms' increases\n",
    "    \n",
    "    Input: num_of_terms (number of terms to scan up to)\n",
    "    Output: found (a list of perfect squares found up to 'num_of_terms' terms)\n",
    "    '''\n",
    "    \n",
    "    found = []\n",
    "\n",
    "    for n in range(1, num_of_terms + 1):\n",
    "\n",
    "        if is_perfect_square(math.floor(n * math.sqrt(2017))):\n",
    "            found.append(n)\n",
    "    \n",
    "    return found"
   ]
  },
  {
   "cell_type": "code",
   "execution_count": 4,
   "metadata": {
    "collapsed": false,
    "deletable": true,
    "editable": true
   },
   "outputs": [
    {
     "data": {
      "text/plain": [
       "[97, 501, 621, 787, 1414]"
      ]
     },
     "execution_count": 4,
     "metadata": {},
     "output_type": "execute_result"
    }
   ],
   "source": [
    "scan_terms(2000)"
   ]
  },
  {
   "cell_type": "markdown",
   "metadata": {
    "deletable": true,
    "editable": true
   },
   "source": [
    "### Q2\n",
    "(Source: https://brilliant.org/weekly-problems/2017-06-26/advanced/)\n",
    "\n",
    "*Pi Han has written down a perfect square between 1 to 300 inclusive. Calvin wants to know the integer, and is allowed to ask \"yes/no\" questions to determine it. Pi Han would immediately answer the question, and then Calvin can use that information to ask his next question. As a point of pride, Calvin would not ask questions to which he already knows the answer. Calvin asks the following questions:*\n",
    "\n",
    "1. Is it less than 100?\n",
    "2. Is it even?\n",
    "3. Is it 2-digit?\n",
    "4. Is the second digit from the left a 6?\n",
    "\n",
    "*At this point, Calvin declares that he knows the answer. However, he turns out to be incorrect because Pi Han gave the wrong answer to each of the 4 questions!*\n",
    "\n",
    "*What is the number in the envelope? If you think it cannot be uniquely determined, enter 0 as your answer.*\n",
    "\n",
    "*Clarification: Before the questions are asked, Calvin knows that Pi Han wrote down a perfect square between 1 and 300 inclusive.*"
   ]
  },
  {
   "cell_type": "code",
   "execution_count": null,
   "metadata": {
    "collapsed": true
   },
   "outputs": [],
   "source": []
  },
  {
   "cell_type": "markdown",
   "metadata": {
    "deletable": true,
    "editable": true
   },
   "source": [
    "Here is my reasoning for solving this problem:\n",
    "\n",
    "It can be inferred that the answers given by  Pi Han were:\n",
    "1. YES\n",
    "2. YES\n",
    "3. YES\n",
    "4. NO\n",
    "\n",
    "Since he gave the wrong answers, the real right answers were:\n",
    "1. NO\n",
    "2. NO\n",
    "3. NO\n",
    "4. YES\n",
    "\n",
    "This means we are looking for a perfect square that:\n",
    "1. Is greater than (or equal to) 100 (*range(100, 301)*)\n",
    "2. Is odd (no need to check unless more that one number satisfies all the other conditions)\n",
    "3. Is not 2-digit (no need to check - already satisfied by condition 1)\n",
    "4. Has '6' as the second digit"
   ]
  },
  {
   "cell_type": "code",
   "execution_count": 5,
   "metadata": {
    "collapsed": false,
    "deletable": true,
    "editable": true
   },
   "outputs": [
    {
     "name": "stdout",
     "output_type": "stream",
     "text": [
      "169\n"
     ]
    }
   ],
   "source": [
    "# Based on the reasoning above, the following piece of code solves the problem\n",
    "\n",
    "for i in range(100, 301):\n",
    "    if is_perfect_square(i) and str(i)[1] == '6':\n",
    "        print(i)"
   ]
  },
  {
   "cell_type": "code",
   "execution_count": null,
   "metadata": {
    "collapsed": true,
    "deletable": true,
    "editable": true
   },
   "outputs": [],
   "source": []
  }
 ],
 "metadata": {
  "kernelspec": {
   "display_name": "Python 3",
   "language": "python",
   "name": "python3"
  },
  "language_info": {
   "codemirror_mode": {
    "name": "ipython",
    "version": 3
   },
   "file_extension": ".py",
   "mimetype": "text/x-python",
   "name": "python",
   "nbconvert_exporter": "python",
   "pygments_lexer": "ipython3",
   "version": "3.5.2"
  }
 },
 "nbformat": 4,
 "nbformat_minor": 2
}
