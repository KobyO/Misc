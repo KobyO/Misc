{
 "cells": [
  {
   "attachments": {},
   "cell_type": "markdown",
   "metadata": {},
   "source": [
    "### Program to play with the problem below for any grid dimension:\n",
    "(Problem described [here](https://brilliant.org/weekly-problems/2017-06-19/intermediate/?p=2))\n",
    "\n",
    "Constraints:\n",
    "* Cells along the diagonal cannot be counted as 'edge neighbours'\n",
    "* Cells along the diagonal cannot be painted (added by me for more interesting code)"
   ]
  },
  {
   "cell_type": "code",
   "execution_count": null,
   "metadata": {
    "collapsed": true
   },
   "outputs": [],
   "source": [
    "import matplotlib.pyplot as plt"
   ]
  },
  {
   "cell_type": "code",
   "execution_count": null,
   "metadata": {
    "collapsed": true
   },
   "outputs": [],
   "source": [
    "def initialize_grid(rows, columns, initial_cell):\n",
    "    \n",
    "    grid = np.zeros((rows, columns))\n",
    "    \n",
    "    # paint initial cell if specified\n",
    "    if initial_cell:\n",
    "        grid[initial_cell[0],initial_cell[1]] = 1\n",
    "    \n",
    "    return grid"
   ]
  },
  {
   "cell_type": "code",
   "execution_count": null,
   "metadata": {
    "collapsed": true
   },
   "outputs": [],
   "source": [
    "def paint_cell(grid, row, col):\n",
    "    \n",
    "    edges = 0\n",
    "    \n",
    "    left = col - 1\n",
    "    right = col + 1\n",
    "    up = row - 1\n",
    "    down = row + 1\n",
    "    \n",
    "    neighbours = [left, right, up, down]\n",
    "    \n",
    "    for index in range(len(neighbours)):\n",
    "        try: # in case of index out of range\n",
    "            if(neighbours[index] >= 0): # avoid cycling around to the opposite array boundary\n",
    "                if (index == 0 or index == 1): # column index\n",
    "                    if (row != neighbours[index]) & (grid[row, neighbours[index]] != 1): # non-diagonal and unpainted cell\n",
    "                        edges += 1\n",
    "                else: #row index\n",
    "                    if (col != neighbours[index]) & (grid[neighbours[index], col] != 1): # non-diagonal and unpainted cell\n",
    "                        edges += 1\n",
    "        except:\n",
    "            pass\n",
    "    \n",
    "    if (edges == 1 or edges == 3):\n",
    "        grid[row,col] = 1\n",
    "        \n",
    "    return grid"
   ]
  },
  {
   "cell_type": "code",
   "execution_count": null,
   "metadata": {
    "collapsed": true
   },
   "outputs": [],
   "source": [
    "def paint_grid(grid, initial_cell = None):\n",
    "    \n",
    "    # paint initial cell if specified\n",
    "    if initial_cell:\n",
    "        grid[initial_cell[0],initial_cell[1]] = 1\n",
    "    \n",
    "    for i in range(len(grid)):\n",
    "        for j in range(len(grid[0])):\n",
    "            \n",
    "            if i == j: # cell along the diagonal\n",
    "                continue\n",
    "\n",
    "            grid = paint_cell(grid, i, j)\n",
    "            \n",
    "    return grid"
   ]
  },
  {
   "cell_type": "code",
   "execution_count": null,
   "metadata": {
    "collapsed": true
   },
   "outputs": [],
   "source": [
    "def max_grid_paint(grid, rows, columns, initial_cell):\n",
    "    \n",
    "    if grid:\n",
    "        rows = len(grid)\n",
    "        columns = len(grid[0])\n",
    "    else:\n",
    "        if initial_cell:\n",
    "            grid = initialize_grid(rows, columns, initial_cell)# np.random.choice(min(rows, columns), 2, replace = False))\n",
    "        else:\n",
    "            grid = initialize_grid(rows, columns, None)\n",
    "    \n",
    "    new_cells_painted = []\n",
    "    \n",
    "    while(True): # iterate until no possible cell remains to be painted\n",
    "        \n",
    "        initial_cells_painted = np.sum(grid)\n",
    "\n",
    "        grid = paint_grid(grid)\n",
    "        cells_painted = np.sum(grid)\n",
    "                    \n",
    "        delta_cells_painted = cells_painted - initial_cells_painted\n",
    "        \n",
    "        if delta_cells_painted == 0:\n",
    "            break\n",
    "            \n",
    "        new_cells_painted.append(delta_cells_painted)\n",
    "        \n",
    "    if initial_cell:\n",
    "        new_cells_painted[0] += 1 # to account for cell that was already painted at the beginning\n",
    "                \n",
    "    return grid, cells_painted, new_cells_painted"
   ]
  },
  {
   "cell_type": "code",
   "execution_count": null,
   "metadata": {
    "collapsed": true
   },
   "outputs": [],
   "source": [
    "def explore_grid_paint(rows, cols):\n",
    "    \n",
    "    params = {}\n",
    "\n",
    "    for i in range(rows):\n",
    "        for j in range(cols):\n",
    "\n",
    "            if i == j: # do not use cells in diagonal as initial cells\n",
    "                continue\n",
    "\n",
    "            params[i, j] = max_grid_paint(None, rows, cols, [i, j])\n",
    "            \n",
    "    return params"
   ]
  },
  {
   "cell_type": "code",
   "execution_count": null,
   "metadata": {
    "collapsed": true
   },
   "outputs": [],
   "source": [
    "def display_results(rows, cols):\n",
    "\n",
    "    params = explore_grid_paint(rows, cols)\n",
    "\n",
    "    print('RESULTS FOR %d X %d GRID \\n' %(rows, cols))\n",
    "    print('Initial indices with max and min results:\\n')\n",
    "\n",
    "    # calling 'max' or 'min' based on 'item' returns the entire row (a dict) that contains 'item'\n",
    "\n",
    "    # item[1][1] holds the number of cells painted, max_painted and min_painted hold the entire row containing 'item'\n",
    "    min_painted = min(params.items(), key = lambda item: item[1][1])\n",
    "    print('Min. total cells painted: %d' %min_painted[1][1])\n",
    "    print('Initialized at: ', end = '')\n",
    "    print(min_painted[0])\n",
    "    print('Number of iterations: %d' %len(min_painted[1][2]))\n",
    "    print('Cells painted per iteration: ', end = '')\n",
    "    print(min_painted[1][2])\n",
    "    print('Grid:')\n",
    "    %matplotlib inline\n",
    "    plt.imshow(min_painted[1][0])\n",
    "    plt.grid(True)\n",
    "    plt.show()\n",
    "\n",
    "    print()\n",
    "    max_painted = max(params.items(), key = lambda item: item[1][1])\n",
    "    print('Max. total cells painted: %d' %max_painted[1][1])\n",
    "    print('Initialized at: ', end = '')\n",
    "    print(max_painted[0])\n",
    "    print('Number of iterations: %d' %len(max_painted[1][2]))\n",
    "    print('Cells painted per iteration: ', end = '')\n",
    "    print(max_painted[1][2])\n",
    "    print('Grid:')\n",
    "    %matplotlib inline\n",
    "    plt.imshow(max_painted[1][0])\n",
    "    plt.grid(True)\n",
    "    plt.show()\n",
    "\n",
    "    # item[1][2] holds the list of cells painted per iteration, min_iters and max_iters hold the entire row containing 'item'\n",
    "\n",
    "    print('\\n')\n",
    "    min_iters = min(params.items(), key = lambda item: len(item[1][2]))\n",
    "    print('Smallest number of iterations: %d' %len(min_iters[1][2]))\n",
    "    print('Initialized at: ', end = '')\n",
    "    print(min_iters[0])\n",
    "    print('Cells painted per iteration: ', end = '')\n",
    "    print(min_iters[1][2])\n",
    "\n",
    "    print()\n",
    "    max_iters = max(params.items(), key = lambda item: len(item[1][2]))\n",
    "    print('Highest number of iterations: %d' %len(max_iters[1][2]))\n",
    "    print('Initialized at: ', end = '')\n",
    "    print(max_iters[0])\n",
    "    print('Cells painted per iteration: ', end = '')\n",
    "    print(max_iters[1][2])\n",
    "\n",
    "    print('\\n')\n",
    "    min_first_painted = min(params.items(), key = lambda item: item[1][2][0])\n",
    "    print('Min. cells painted in first iteration: %d' %min_first_painted[1][2][0])\n",
    "    print('Initialized at: ', end = '')\n",
    "    print(min_first_painted[0])\n",
    "    print('Cells painted per iteration: ', end = '')\n",
    "    print(min_first_painted[1][2])\n",
    "\n",
    "    print()\n",
    "    min_painted_per_iter = min(params.items(), key = lambda item: min(item[1][2]))\n",
    "    print('Min. cells painted in any iteration: %d' %min(min_painted_per_iter[1][2]))\n",
    "    print('Initialized at: ', end = '')\n",
    "    print(min_painted_per_iter[0])\n",
    "    print('Cells painted per iteration: ', end = '')\n",
    "    print(min_painted_per_iter[1][2])\n",
    "\n",
    "    print('\\n')\n",
    "    max_first_painted = max(params.items(), key = lambda item: item[1][2][0])\n",
    "    print('Max. cells painted in first iteration: %d' %max_first_painted[1][2][0])\n",
    "    print('Initialized at: ', end = '')\n",
    "    print(max_first_painted[0])\n",
    "    print('Cells painted per iteration: ', end = '')\n",
    "    print(max_first_painted[1][2])\n",
    "\n",
    "    print()\n",
    "    max_painted_per_iter = max(params.items(), key = lambda item: max(item[1][2]))\n",
    "    print('Max. cells painted in any iteration: %d' %max(max_painted_per_iter[1][2]))\n",
    "    print('Initialized at: ', end = '')\n",
    "    print(max_painted_per_iter[0])\n",
    "    print('Cells painted per iteration: ', end = '')\n",
    "    print(max_painted_per_iter[1][2])    "
   ]
  },
  {
   "cell_type": "code",
   "execution_count": 109,
   "metadata": {},
   "outputs": [
    {
     "name": "stdout",
     "output_type": "stream",
     "text": [
      "RESULTS FOR 7 X 11 GRID \n",
      "\n",
      "Initial indices with max and min results:\n",
      "\n",
      "Min. total cells painted: 46\n",
      "Initialized at: (5, 9)\n",
      "Number of iterations: 4\n",
      "Cells painted per iteration: [30.0, 11.0, 4.0, 1.0]\n",
      "Grid:\n"
     ]
    },
    {
     "data": {
      "image/png": "[encoded data removed]",
      "text/plain": [
       "<matplotlib.figure.Figure at 0x506825df28>"
      ]
     },
     "metadata": {},
     "output_type": "display_data"
    },
    {
     "name": "stdout",
     "output_type": "stream",
     "text": [
      "\n",
      "Max. total cells painted: 56\n",
      "Initialized at: (2, 7)\n",
      "Number of iterations: 3\n",
      "Cells painted per iteration: [34.0, 17.0, 5.0]\n",
      "Grid:\n"
     ]
    },
    {
     "data": {
      "image/png": "[encoded data removed]",
      "text/plain": [
       "<matplotlib.figure.Figure at 0x5068253e10>"
      ]
     },
     "metadata": {},
     "output_type": "display_data"
    },
    {
     "name": "stdout",
     "output_type": "stream",
     "text": [
      "\n",
      "\n",
      "Smallest number of iterations: 3\n",
      "Initialized at: (1, 3)\n",
      "Cells painted per iteration: [35.0, 14.0, 5.0]\n",
      "\n",
      "Highest number of iterations: 6\n",
      "Initialized at: (2, 8)\n",
      "Cells painted per iteration: [30.0, 13.0, 4.0, 1.0, 3.0, 1.0]\n",
      "\n",
      "\n",
      "Min. cells painted in first iteration: 26\n",
      "Initialized at: (0, 8)\n",
      "Cells painted per iteration: [26.0, 16.0, 6.0, 1.0]\n",
      "\n",
      "Min. cells painted in any iteration: 1\n",
      "Initialized at: (5, 9)\n",
      "Cells painted per iteration: [30.0, 11.0, 4.0, 1.0]\n",
      "\n",
      "\n",
      "Max. cells painted in first iteration: 40\n",
      "Initialized at: (0, 5)\n",
      "Cells painted per iteration: [40.0, 11.0, 4.0]\n",
      "\n",
      "Max. cells painted in any iteration: 40\n",
      "Initialized at: (0, 5)\n",
      "Cells painted per iteration: [40.0, 11.0, 4.0]\n"
     ]
    }
   ],
   "source": [
    "display_results(7, 11)"
   ]
  },
  {
   "cell_type": "code",
   "execution_count": null,
   "metadata": {
    "collapsed": true
   },
   "outputs": [],
   "source": []
  }
 ],
 "metadata": {
  "kernelspec": {
   "display_name": "Python 3",
   "language": "python",
   "name": "python3"
  },
  "language_info": {
   "codemirror_mode": {
    "name": "ipython",
    "version": 3
   },
   "file_extension": ".py",
   "mimetype": "text/x-python",
   "name": "python",
   "nbconvert_exporter": "python",
   "pygments_lexer": "ipython3",
   "version": "3.5.2"
  }
 },
 "nbformat": 4,
 "nbformat_minor": 2
}
