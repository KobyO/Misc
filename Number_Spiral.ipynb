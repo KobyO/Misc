{
 "cells": [
  {
   "cell_type": "markdown",
   "metadata": {
    "deletable": true,
    "editable": true
   },
   "source": [
    "### A number spiral\n",
    "(Source: https://medium.com/mathematica-stories/why-is-2017-an-interesting-number-dc3cfc135853)\n",
    "\n",
    "Arrange the odd numbers in a square spiral, as shown below. If you start at the 1 in the center and move down 16 cells then you will land on the number 2017. Neat, huh? (How this is related to the lazy caterer’s sequence?)\n",
    "\n",
    "<img src = 'https://cdn-images-1.medium.com/max/800/1*MpvMlo2PA2UhWNpVpEMCxA.png' />\n",
    "\n",
    "- The code below helps us verify that the number 16 cells down is indeed 2017.\n",
    "- This code allows us to create a clockwise spiral where we can specify:\n",
    " - the starting number (start_num)\n",
    " - the step size (step_size) and \n",
    " - the number of loops in the spiral (num_loops)\n",
    " \n",
    "The relationship to the [lazy caterer sequence](https://en.wikipedia.org/wiki/Lazy_caterer%27s_sequence) is explained below.\n",
    "\n",
    "If you have not done so already, check out my [lazy caterer program](https://github.com/KobyO/Misc/blob/master/Lazy%20Caterer%20Problem.ipynb)."
   ]
  },
  {
   "cell_type": "code",
   "execution_count": 1,
   "metadata": {
    "collapsed": true,
    "deletable": true,
    "editable": true
   },
   "outputs": [],
   "source": [
    "import numpy as np"
   ]
  },
  {
   "cell_type": "code",
   "execution_count": 2,
   "metadata": {
    "collapsed": false,
    "deletable": true,
    "editable": true
   },
   "outputs": [],
   "source": [
    "class Spiral:\n",
    "    \n",
    "    spiral = {} # dictionary to represent the spiral\n",
    "    cardinals = {'east': 1, 'south': 3, 'west': 5, 'north': 7}\n",
    "    \n",
    "    start_num = 0\n",
    "    step_size = 0\n",
    "    num_loops = 0\n",
    "    \n",
    "    def __init__(self, start_num, step_size, num_loops):\n",
    "        self.spiral = {}\n",
    "        self.start_num = start_num\n",
    "        self.step_size = step_size\n",
    "        self.num_loops = num_loops\n",
    "        \n",
    "        #initialize keys:\n",
    "        for loop_index in range(num_loops + 1): #spiral[0] is not counted as a loop, hence the +1\n",
    "            self.spiral[loop_index] = []\n",
    "\n",
    "        #initialize starting point:\n",
    "        self.spiral[0] = start_num\n",
    "        next_item = start_num + step_size\n",
    "\n",
    "        #populate the spiral\n",
    "        for loop_index in range(1, num_loops + 1):\n",
    "            for loop_slot in range(8*loop_index):\n",
    "                self.spiral[loop_index].append(next_item)\n",
    "                next_item += step_size\n",
    "        \n",
    "    \n",
    "    def get_start_num(self):\n",
    "        return self.start_num\n",
    "    \n",
    "    def get_step_size(self):\n",
    "        return self.step_size\n",
    "    \n",
    "    def get_num_loops(self):\n",
    "        return self.num_loops\n",
    "    \n",
    "    def read(self, direction): # read the spiral in a specified direction\n",
    "\n",
    "        output = []\n",
    "        output.append(self.spiral[0])\n",
    "        step = self.cardinals[direction] - 1 # first index in 'direction'\n",
    "\n",
    "        for loop in range(1, len(self.spiral)):\n",
    "            output.append(self.spiral[loop][step])\n",
    "            step += self.cardinals[direction]\n",
    "\n",
    "        return output\n",
    "    \n",
    "    def display(self):\n",
    "        \n",
    "        grid_size = 2*self.num_loops + 1\n",
    "        center = grid_size//2\n",
    "\n",
    "        spiral_matrix = np.zeros((grid_size, grid_size)).astype(np.int)\n",
    "        spiral_matrix[center][center] = self.spiral[0] #initialize center with start_num\n",
    "\n",
    "        top_row = 0\n",
    "        left_col = 0\n",
    "        right_col = grid_size - 1\n",
    "        bottom_row = grid_size - 1\n",
    "\n",
    "        for loop_num in reversed(range(1, self.num_loops + 1)): # start from outermost loop\n",
    "\n",
    "            loop_length = len(self.spiral[loop_num])\n",
    "            row_size = int(loop_length/4) + 1\n",
    "            col_size = int(loop_length/4) - 1\n",
    "            row_start = left_col\n",
    "            col_start = top_row + 1\n",
    "\n",
    "            spiral_matrix[top_row, row_start:(row_start + row_size)] = self.spiral[loop_num][-(row_size):]\n",
    "            spiral_matrix[bottom_row, row_start:(row_start + row_size)] = list(reversed(self.spiral[loop_num][col_size:(col_size + row_size)]))\n",
    "            spiral_matrix[col_start:(col_start + col_size), left_col] = list(reversed(self.spiral[loop_num][-(col_size + row_size):-(row_size)]))\n",
    "            spiral_matrix[col_start:(col_start + col_size), right_col] = self.spiral[loop_num][:col_size]\n",
    "\n",
    "            top_row += 1\n",
    "            left_col += 1\n",
    "            right_col -= 1\n",
    "            bottom_row -= 1\n",
    "\n",
    "        return spiral_matrix\n",
    "    \n",
    "    def scramble(self):\n",
    "        return"
   ]
  },
  {
   "cell_type": "code",
   "execution_count": 3,
   "metadata": {
    "collapsed": false,
    "deletable": true,
    "editable": true
   },
   "outputs": [],
   "source": [
    "# Create a spiral with start_num = 1, step_size = 2, num_loops = 16\n",
    "s = Spiral(1, 2, 16)"
   ]
  },
  {
   "cell_type": "code",
   "execution_count": 4,
   "metadata": {
    "collapsed": false,
    "deletable": true,
    "editable": true
   },
   "outputs": [
    {
     "name": "stdout",
     "output_type": "stream",
     "text": [
      "[1, 7, 29, 67, 121, 191, 277, 379, 497, 631, 781, 947, 1129, 1327, 1541, 1771, 2017]\n"
     ]
    }
   ],
   "source": [
    "# We can read the spiral in the south direction to see that the last number is 2017\n",
    "print(s.read('south'))"
   ]
  },
  {
   "cell_type": "markdown",
   "metadata": {
    "deletable": true,
    "editable": true
   },
   "source": [
    "- By the way, it turns out that the spiral is related to the Lazy Caterer problem as follows:\n",
    "  \n",
    "  If n is the value located c cells the south (i.e. downward),\n",
    "  then n is the number of pieces produced by 4c - 1 straight cuts in the Lazy Caterer problem.\n",
    "  \n",
    "  For example, the 14th value in s.read('south') is 1541, which is the number of pieces produced by 4(14) - 1 straight cuts (i.e. 55 straight cuts) in the Lazy Caterer problem)."
   ]
  },
  {
   "cell_type": "code",
   "execution_count": 5,
   "metadata": {
    "collapsed": false,
    "deletable": true,
    "editable": true
   },
   "outputs": [
    {
     "data": {
      "text/plain": [
       "array([[2113, 2115, 2117, ..., 2173, 2175, 2177],\n",
       "       [2111, 1861, 1863, ..., 1919, 1921, 1923],\n",
       "       [2109, 1859, 1625, ..., 1681, 1683, 1925],\n",
       "       ...,\n",
       "       [2053, 1803, 1569, ..., 1513, 1739, 1981],\n",
       "       [2051, 1801, 1799, ..., 1743, 1741, 1983],\n",
       "       [2049, 2047, 2045, ..., 1989, 1987, 1985]])"
      ]
     },
     "execution_count": 5,
     "metadata": {},
     "output_type": "execute_result"
    }
   ],
   "source": [
    "# The entire spiral is too large to display all the values\n",
    "s.display()"
   ]
  },
  {
   "cell_type": "code",
   "execution_count": 6,
   "metadata": {
    "collapsed": false,
    "deletable": true,
    "editable": true
   },
   "outputs": [
    {
     "data": {
      "text/plain": [
       "array([[221, 223, 225, 227, 229, 231, 233, 235, 237, 239, 241],\n",
       "       [219, 145, 147, 149, 151, 153, 155, 157, 159, 161, 163],\n",
       "       [217, 143,  85,  87,  89,  91,  93,  95,  97,  99, 165],\n",
       "       [215, 141,  83,  41,  43,  45,  47,  49,  51, 101, 167],\n",
       "       [213, 139,  81,  39,  13,  15,  17,  19,  53, 103, 169],\n",
       "       [211, 137,  79,  37,  11,   1,   3,  21,  55, 105, 171],\n",
       "       [209, 135,  77,  35,   9,   7,   5,  23,  57, 107, 173],\n",
       "       [207, 133,  75,  33,  31,  29,  27,  25,  59, 109, 175],\n",
       "       [205, 131,  73,  71,  69,  67,  65,  63,  61, 111, 177],\n",
       "       [203, 129, 127, 125, 123, 121, 119, 117, 115, 113, 179],\n",
       "       [201, 199, 197, 195, 193, 191, 189, 187, 185, 183, 181]])"
      ]
     },
     "execution_count": 6,
     "metadata": {},
     "output_type": "execute_result"
    }
   ],
   "source": [
    "# But just for fun, we can create a smaller spiral and display it\n",
    "s_small = Spiral(1, 2, 5)\n",
    "s_small.display()"
   ]
  },
  {
   "cell_type": "code",
   "execution_count": null,
   "metadata": {
    "collapsed": true,
    "deletable": true,
    "editable": true
   },
   "outputs": [],
   "source": []
  }
 ],
 "metadata": {
  "kernelspec": {
   "display_name": "Python 3",
   "language": "python",
   "name": "python3"
  },
  "language_info": {
   "codemirror_mode": {
    "name": "ipython",
    "version": 3
   },
   "file_extension": ".py",
   "mimetype": "text/x-python",
   "name": "python",
   "nbconvert_exporter": "python",
   "pygments_lexer": "ipython3",
   "version": "3.5.2"
  }
 },
 "nbformat": 4,
 "nbformat_minor": 2
}
